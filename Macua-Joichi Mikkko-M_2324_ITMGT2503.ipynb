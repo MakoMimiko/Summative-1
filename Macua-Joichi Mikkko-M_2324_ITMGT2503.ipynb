{
 "cells": [
  {
   "cell_type": "markdown",
   "id": "a45da6f3",
   "metadata": {},
   "source": [
    "# General Instructions\n",
    "Change the filenames to LastName-FirstName_Section_M-N_2324_ITMGT2503 <br>\n",
    "__Ex. GAW-Adriel_SectionM_2324_ITMGT2503__"
   ]
  },
  {
   "cell_type": "markdown",
   "id": "d6da16c7",
   "metadata": {},
   "source": [
    "# Question 1: Watch Your Words\n",
    "Your task is to count the number of times that each word was used in a movie script! Please be guided by the instructions below!"
   ]
  },
  {
   "cell_type": "markdown",
   "id": "2ac08c4d",
   "metadata": {},
   "source": [
    "#### 1a"
   ]
  },
  {
   "cell_type": "code",
   "execution_count": 1,
   "id": "733f65e0",
   "metadata": {},
   "outputs": [
    {
     "data": {
      "text/plain": [
       "[('A', 59), ('B', 100), ('C', 20), ('D', 88), ('E', 25), ('F', 38)]"
      ]
     },
     "execution_count": 1,
     "metadata": {},
     "output_type": "execute_result"
    }
   ],
   "source": [
    "# First, to help guide you, here is a list containing tuples. Run this block of code to initialize the list\n",
    "list_of_tuples = [('A',59),('B',100),('C',20),('D',88),('E',25),('F',38)]\n",
    "\n",
    "list_of_tuples"
   ]
  },
  {
   "cell_type": "markdown",
   "id": "be1700c1",
   "metadata": {},
   "source": [
    "If we want to __sort this tuple according to the numerical value__, using the sort() without any other arguments will not suffice. But, diving a bit deeper into the sort() function, we can see that it can accept two parameters: \n",
    "\n",
    "- `key` which is what will be used as the basis for sorting\n",
    "- `reverse` which accepts a Boolean value to determine if the sorting will be ascending or descending\n"
   ]
  },
  {
   "cell_type": "code",
   "execution_count": 3,
   "id": "cde85a14",
   "metadata": {},
   "outputs": [
    {
     "name": "stdout",
     "output_type": "stream",
     "text": [
      "[('B', 100), ('D', 88), ('A', 59), ('F', 38), ('E', 25), ('C', 20)]\n"
     ]
    }
   ],
   "source": [
    "# execute this cell to see how the two arguments help us achieve the desired result\n",
    "\n",
    "list_of_tuples.sort(key=lambda x: x[1], reverse=True)\n",
    "\n",
    "print(list_of_tuples)"
   ]
  },
  {
   "cell_type": "markdown",
   "id": "d9503f7e",
   "metadata": {},
   "source": [
    "#### 1b"
   ]
  },
  {
   "cell_type": "code",
   "execution_count": 19,
   "id": "57374ae4",
   "metadata": {},
   "outputs": [
    {
     "data": {
      "text/plain": [
       "<_io.TextIOWrapper name='script.json' mode='r' encoding='cp1252'>"
      ]
     },
     "execution_count": 19,
     "metadata": {},
     "output_type": "execute_result"
    }
   ],
   "source": [
    "# To formally start this problem:\n",
    "# Load the \"script.json\" file and store it in the `jsondata` variable. \n",
    "# The dictionary will contain the \"line number\" (starting from 0) as the key, \n",
    "# and the lines itself as the value\n",
    "\n"
   ]
  },
  {
   "cell_type": "code",
   "execution_count": 155,
   "id": "f19eaf5e",
   "metadata": {},
   "outputs": [
    {
     "name": "stdout",
     "output_type": "stream",
     "text": [
      "Type of JSON Object:  <class 'dict'>\n"
     ]
    }
   ],
   "source": [
    "with open(\"script.json\",\"r\") as file:\n",
    "    jsondata = json.load(file)\n",
    "print(\"Type of JSON Object: \", type(jsondata))\n",
    "# print(jsondata)"
   ]
  },
  {
   "cell_type": "markdown",
   "id": "7ff1d466",
   "metadata": {},
   "source": [
    "#### 1c"
   ]
  },
  {
   "cell_type": "code",
   "execution_count": 337,
   "id": "bfd0f682",
   "metadata": {},
   "outputs": [],
   "source": [
    "# To process the lines in the script, you need to do the following in chronological order:\n",
    "#### Convert all characters to uppercase characters\n",
    "#### Remove the following pieces of text: <P>, </P>, <B>, </B>, <I>, </I>\n",
    "#### Remove all the unnecessary punctuation symbols denoted in the string below\n",
    "unnecessary_punctuation = r\"&$@[].,'#()-\\\"!?’_;:/\"\n",
    "unnecessary_punctuation_list = list(unnecessary_punctuation)\n",
    "unnecessary_list = ['<P>', '</P>', '<B>', '</B>', '<I>', '</I>', '\\n']\n",
    "for key in jsondata.keys():\n",
    "    for el in unnecessary_list:\n",
    "        jsondata.update({key: str(jsondata.get(key)).upper().replace(el, \" \")})\n",
    "    for punc in unnecessary_punctuation_list:\n",
    "        jsondata.update({key: str(jsondata.get(key)).upper().replace(punc, \" \")})\n",
    "#print(jsondata)"
   ]
  },
  {
   "cell_type": "markdown",
   "id": "eb694aa4",
   "metadata": {},
   "source": [
    "#### 1d"
   ]
  },
  {
   "cell_type": "code",
   "execution_count": 329,
   "id": "0fb22eb9",
   "metadata": {},
   "outputs": [],
   "source": [
    "# From here, create a dictionary called `wordcount_dictionary` that will have the key:value pair of word:count\n",
    "# But, only include words that are three (3) letters or more\n",
    "wordcount_dictionary = {}\n",
    "current_value_list = []\n",
    "#create a for loop that adds each more than 3 letter word to a list then counts it\n",
    "for key in jsondata.keys():\n",
    "    current_value_list = jsondata.get(key).split(\" \")\n",
    "    for i in current_value_list:\n",
    "        if len(i) < 3:\n",
    "            continue\n",
    "        if i not in wordcount_dictionary:\n",
    "            wordcount_dictionary.update({i : 1})\n",
    "        else:\n",
    "            # print(wordcount_dictionary.get(i))\n",
    "            wordcount_dictionary.update({i : wordcount_dictionary.get(i) + 1})\n",
    "# print(wordcount_dictionary)\n",
    "    \n"
   ]
  },
  {
   "cell_type": "code",
   "execution_count": 339,
   "id": "b6cab676",
   "metadata": {},
   "outputs": [
    {
     "name": "stdout",
     "output_type": "stream",
     "text": [
      "Looks Good!\n"
     ]
    }
   ],
   "source": [
    "# If there were no errors in the way you processed your data, \n",
    "# this should output \"Looks Good!\"  \n",
    "\n",
    "import numpy as np\n",
    "import pandas as pd \n",
    "\n",
    "df1 = pd.read_json(\"output_dictionary_Q1.json\",typ=\"dictionary\").sort_values()\n",
    "df2 = pd.Series(wordcount_dictionary).sort_values()\n",
    "\n",
    "assert df1.equals(df2), \"The dictionaries are not equal. Please check your code again.\"\n",
    "\n",
    "print(\"Looks Good!\")"
   ]
  },
  {
   "cell_type": "markdown",
   "id": "3d81395c",
   "metadata": {},
   "source": [
    "#### 1e"
   ]
  },
  {
   "cell_type": "code",
   "execution_count": 327,
   "id": "9891020e",
   "metadata": {},
   "outputs": [],
   "source": [
    "# Afterwards, we want to convert that dictionary to a list containing tuples\n",
    "# Create a list called \"final_wordlist_of_tuples\" containing tuples \n",
    "# Each tuple should be as follows: (word,count)\n",
    "# Sort the list by `count` (the second element of the tuple) in descending order\n",
    "# A correct sample is shown in the markdown cell below\n",
    "# Hint: this can be done using lambda but you can use a regular function definition. \n",
    "# Make sure you go through the mini-tutorial at the start of this problem.\n",
    "final_wordlist_of_tuples = list(wordcount_dictionary.items())\n",
    "final_wordlist_of_tuples.sort(key=lambda x: x[1], reverse=True)\n",
    "\n",
    "# print(final_wordlist_of_tuples)\n"
   ]
  },
  {
   "cell_type": "markdown",
   "id": "7d38d8e3",
   "metadata": {},
   "source": [
    "___<div align=\"center\">Once sorted, this should be the output of the first five items.</div>___\n",
    "\n",
    "|         |             |\n",
    "|:--------|------------:|\n",
    "| THE     |         830 |\n",
    "| JOY     |         585 |\n",
    "| AND     |         351 |\n",
    "| RILEY   |         326 |\n",
    "| SADNESS |         274 |"
   ]
  },
  {
   "cell_type": "markdown",
   "id": "358fdc4f",
   "metadata": {},
   "source": [
    "# Question 2: Wait... What is LP Doing Here?\n",
    "I swear you don't need to do LP here. In fact, the LP formulation is already shown below! "
   ]
  },
  {
   "cell_type": "markdown",
   "id": "4df54d5e",
   "metadata": {},
   "source": [
    "#### LP Problem\n",
    "In the realm of Sanctoria, nestled deep within the misty forests and craggy mountains, lies the legendary dungeon of The Lost King. It is said to be filled with untold riches, ancient relics, and formidable monsters guarding its treasures. As the wise and benevolent ruler of Sanctoria, King Hexter has decided to assemble a daring raiding party to plunder the depths of the dungeon and reclaim its treasures for the kingdom.\n",
    "\n",
    "As the illustrious ruler of Sanctoria, King Hexter is faced with the daunting task of assembling a formidable dungeon raiding party. The success of the raid hinges upon the careful selection and allocation of resources to hire Fighters, Rangers, and Clerics for the expedition into the depths of the Lost King’s home.\n",
    "\n",
    "In the planning of this dungeon raid, the King’s advisors have provided him with the following: Gold: The kingdom's treasury can afford to spend no more than 18000 gold coins on hiring adventurers. Each Fighter costs 1000 gold coins, each Ranger costs 600 gold coins, and each Cleric costs 750 gold coins. Lumber: The construction of necessary equipment for each troop requires ample quality lumber. The kingdom has 12000 units of lumber available for the raid. Each Fighter requires 500 units, each Ranger requires 750 units, and each Cleric requires 300 units. Food: The raid will last several weeks so food must be kept and stored during the raid. The raid will be able to carry 1500 units of food available for the raid. Each Fighter requires 50 units, each Ranger requires 45 units, and each Cleric requires 75 units. Power: The power of the raiding party will dictate the level of the raid’s success. Each Fighter gives 10 points, each Ranger gives 12 points, each Cleric gives 16 points.\n",
    "\n",
    "The King’s military advisors have also discussed strategies that will be employed in the raid: Having more Fighters than Rangers will bolster the raiding party's frontline defense To avoid casualties, each Cleric must have at most 3 Fighters that they are supporting"
   ]
  },
  {
   "cell_type": "markdown",
   "id": "e7083e5f",
   "metadata": {},
   "source": [
    "# LP Formulation\n",
    "\n",
    "**Decision Variables:**\n",
    "- (F): Number of Fighters\n",
    "- (R): Number of Rangers\n",
    "- (C): Number of Clerics\n",
    "\n",
    "**Objective:** Maximize the power of the raiding party.\n",
    "\n",
    "$$ \\text{Maximize Z:  } 10F + 12R + 16C $$\n",
    "\n",
    "\n",
    "**Subject to:**\n",
    "\n",
    "\\begin{aligned}\n",
    "1000F + 600R + 750C &\\leq 18000 && \\text{(Gold constraint)} \\\\\n",
    "500F + 750R + 300C &\\leq 12000 && \\text{(Lumber constraint)} \\\\\n",
    "50F + 45R + 75C &\\leq 1500 && \\text{(Food constraint)} \\\\\n",
    "F, R, C &\\geq 0 && \\text{(Non-negativity constraints)}\n",
    "\\end{aligned}\n"
   ]
  },
  {
   "cell_type": "code",
   "execution_count": 325,
   "id": "3edb6f22",
   "metadata": {},
   "outputs": [
    {
     "name": "stderr",
     "output_type": "stream",
     "text": [
      "C:\\Users\\Mikko\\anaconda3\\python.exe: can't open file 'C:\\\\Users\\\\Mikko\\\\Documents\\\\ITMGT\\\\Summative 1\\\\pip': [Errno 2] No such file or directory\n"
     ]
    },
    {
     "ename": "ModuleNotFoundError",
     "evalue": "No module named 'ortools'",
     "output_type": "error",
     "traceback": [
      "\u001b[1;31m---------------------------------------------------------------------------\u001b[0m",
      "\u001b[1;31mModuleNotFoundError\u001b[0m                       Traceback (most recent call last)",
      "Cell \u001b[1;32mIn[325], line 10\u001b[0m\n\u001b[0;32m      8\u001b[0m get_ipython()\u001b[38;5;241m.\u001b[39msystem(\u001b[38;5;124m'\u001b[39m\u001b[38;5;132;01m{sys.executable}\u001b[39;00m\u001b[38;5;124m pip install ortools\u001b[39m\u001b[38;5;124m'\u001b[39m)\n\u001b[0;32m      9\u001b[0m \u001b[38;5;66;03m# pip install ortools\u001b[39;00m\n\u001b[1;32m---> 10\u001b[0m \u001b[38;5;28;01mfrom\u001b[39;00m \u001b[38;5;21;01mortools\u001b[39;00m\u001b[38;5;21;01m.\u001b[39;00m\u001b[38;5;21;01mlinear_solver\u001b[39;00m \u001b[38;5;28;01mimport\u001b[39;00m pywraplp\n\u001b[0;32m     11\u001b[0m solver \u001b[38;5;241m=\u001b[39m pywraplp\u001b[38;5;241m.\u001b[39mSolver(\u001b[38;5;124m'\u001b[39m\u001b[38;5;124mMaximize army power\u001b[39m\u001b[38;5;124m'\u001b[39m, pywraplp\u001b[38;5;241m.\u001b[39mSolver\u001b[38;5;241m.\u001b[39mGLOP_LINEAR_PROGRAMMING)\n\u001b[0;32m     13\u001b[0m optimal_F \u001b[38;5;241m=\u001b[39m solver\u001b[38;5;241m.\u001b[39mIntVar(\u001b[38;5;241m0\u001b[39m, solver\u001b[38;5;241m.\u001b[39minfinity(), \u001b[38;5;124m'\u001b[39m\u001b[38;5;124mfighter\u001b[39m\u001b[38;5;124m'\u001b[39m)\n",
      "\u001b[1;31mModuleNotFoundError\u001b[0m: No module named 'ortools'"
     ]
    }
   ],
   "source": [
    "# With the LP Formulation as a basis, find the optimal solution to the problem using Python\n",
    "# Use the variable `optimal_Z` to store the value of the Maximum Z\n",
    "# Use the variables `optimal_F`, `optimal_R`, and `optimal_C` to store \n",
    "# the optimal solution of Fighters, Rangers, and Clerics respectively\n",
    "# Note: There may be multiple configurations of F, R, C to attain the Maximum Z. \n",
    "# Hint: Don't use your DecSci brain, use your Python programming brain\n",
    "F = []\n",
    "R = []\n",
    "C = []\n",
    "optimal_Z = 10*F + 12*R + 16*C\n",
    "list  =  []\n",
    "i=0\n",
    "while 1000*i <= 18000:\n",
    "    F.append(i)\n",
    "    i += 1\n",
    "i=0\n",
    "while 5000*i <= 12000:\n",
    "    F.append(i)\n",
    "    i += 1\n",
    "while 50*i <= 12000:\n",
    "    F.append(i)\n",
    "    i += 1\n",
    "#welp it is what it is\n",
    "\n",
    "\n"
   ]
  },
  {
   "cell_type": "code",
   "execution_count": null,
   "id": "739011e8",
   "metadata": {},
   "outputs": [],
   "source": [
    "# If there were no errors in the way you processed your data, \n",
    "# this should output \"Looks Good!\"  \n",
    "\n",
    "assert optimal_Z == 322\n",
    "assert (1000*optimal_F + 600*optimal_R + 750*optimal_C) <= 18000\n",
    "assert (500*optimal_F + 750*optimal_R + 300*optimal_C) <= 12000\n",
    "assert (50*optimal_F + 45*optimal_R + 75*optimal_C) <= 1500\n",
    "print(\"Looks Good!\")"
   ]
  },
  {
   "cell_type": "markdown",
   "id": "e4d68adb",
   "metadata": {},
   "source": [
    "# Question 3: Collatz"
   ]
  },
  {
   "cell_type": "markdown",
   "id": "77584d2c",
   "metadata": {},
   "source": [
    "#### 3a"
   ]
  },
  {
   "cell_type": "markdown",
   "id": "49defdc9",
   "metadata": {},
   "source": [
    "The __Collatz Conjecture__ is a mathematical sequence defined as follows:\n",
    "\n",
    "1. Start with any positive integer n.\n",
    "2. If n is even, divide it by 2 to get n / 2.\n",
    "3. If n is odd, multiply it by 3 and add 1 to get 3n + 1.\n",
    "4. Repeat the process with the resulting number.\n",
    "5. The conjecture states that no matter which positive integer you start with, you will always eventually reach 1."
   ]
  },
  {
   "cell_type": "markdown",
   "id": "7067fcd8",
   "metadata": {},
   "source": [
    "As an example, the number 5 will follow this sequence:\n",
    "- Start at __`5`__\n",
    "- 5 is odd, so we multiply by 3 and adds 1 to get __`16`__\n",
    "- 16 is even, so we divide by 2 to get __`8`__\n",
    "- 8 is even, so we divide by 2 to get __`4`__\n",
    "- 4 is even, so we divide by 2 to get __`2`__\n",
    "- 2 is even, so we divide by 2 to get __`1`__\n",
    "- Since the number is 1, we stop the sequence. \n",
    "\n",
    "For the purposes of this problem, let's call the list containing the numbers __[5, 16, 8, 4, 2, 1]__ the __`Collatz Sequence`__. \n",
    "\n",
    "This sequence also has a __`Collatz Length`__ of 6, since the sequence cycled through 6 numbers.\n",
    "\n",
    "The sequence also had a __`Max Collatz`__ of 16, since that was the highest number in the sequence. \n",
    "\n",
    "Lastly, the sequence had a __`Sequence Sum`__ of 36, since that is the sum of all the numbers in the sequence."
   ]
  },
  {
   "cell_type": "code",
   "execution_count": 331,
   "id": "3af64fdd",
   "metadata": {},
   "outputs": [],
   "source": [
    "def Collatz(start_number):\n",
    "    '''\n",
    "    Create a SINGLE FUNCTION that will return the\n",
    "    `Collatz Sequence`, the `Collatz Length`,\n",
    "    and the `Max Collatz` in a dictionary.\n",
    "\n",
    "    The key-value pairs will be the following:\n",
    "    \"collatz_sequence\": the list containing the numbers of the sequence\n",
    "    \"collatz_length\": the length of the sequence\n",
    "    \"max_collatz\": the maximum number achieved in the sequence\n",
    "    \"sequence_sum\": the sum of all the numbers in the sequence \n",
    "\n",
    "    Parameters\n",
    "    ----------\n",
    "    start_number: int\n",
    "        the number used to start the sequence\n",
    "\n",
    "    Returns\n",
    "    -------\n",
    "    dictionary\n",
    "        the dictionary containing the key-value pairs of the\n",
    "        collatz_sequence, collatz_length, max_collatz, and sequence_sum\n",
    "    '''\n",
    "    collatz_list = [start_number]\n",
    "    numba = start_number\n",
    "    while numba != 1:\n",
    "        if numba % 2 == 0:\n",
    "            numba = numba / 2\n",
    "        else:\n",
    "            numba = (numba * 3) + 1\n",
    "        collatz_list.append(numba)\n",
    "    collatz_keys = ['collatz_sequence', 'collatz_length', 'max_collatz', 'sequence_sum']\n",
    "    collatz_dic = {\n",
    "        'collatz_sequence' : collatz_list,\n",
    "        'collatz_length': len(collatz_list),\n",
    "        'max_collatz': max(collatz_list),\n",
    "        'sequence_sum': sum(collatz_list)\n",
    "    }\n",
    "    return collatz_dic\n",
    "# Collatz(4)"
   ]
  },
  {
   "cell_type": "markdown",
   "id": "d77c02b7",
   "metadata": {},
   "source": [
    "#### 3b"
   ]
  },
  {
   "cell_type": "code",
   "execution_count": 333,
   "id": "ec7ad5ed",
   "metadata": {},
   "outputs": [],
   "source": [
    "def Collatz_winner(number_list):\n",
    "    '''\n",
    "    Given a list of positive integers, return the `winner`\n",
    "    among them. The `winner` is categorized as such:\n",
    "        \n",
    "        1. The number has the largest `collatz_length`; and\n",
    "        2. The number has the largest `max_collatz`\n",
    "\n",
    "    If there is no winner, then the function must return None\n",
    "\n",
    "    Parameters\n",
    "    ----------\n",
    "    number_list: list\n",
    "        a list of positive integers\n",
    "\n",
    "    Returns\n",
    "    -------\n",
    "    integer (or NoneType)ii\n",
    "        the \"winner\" that follows the specific criteria above\n",
    "        returns a None if it does not meet all the criteria above\n",
    "    '''\n",
    "    collatz_list = []\n",
    "    for numba in number_list:\n",
    "        specific_collatz = [numba]\n",
    "        while numba != 1:\n",
    "            if numba % 2 == 0:\n",
    "                numba = numba / 2\n",
    "            else:\n",
    "                numba = (numba * 3) + 1\n",
    "            specific_collatz.append(numba)\n",
    "        collatz_list.append(specific_collatz)\n",
    "    collatz_length = []\n",
    "    max_collatz = []\n",
    "    for i in collatz_list:\n",
    "        collatz_length.append(len(i))\n",
    "    for i in collatz_list:\n",
    "        max_collatz.append(max(i))\n",
    "    print(max_collatz)\n",
    "    for y in range(0, len(collatz_list)):\n",
    "        if collatz_length[y] == max(collatz_length) and max_collatz[y] == max(max_collatz):\n",
    "            return number_list[y]\n",
    "    return 'None'\n",
    "# Collatz_winner(range(50, 100))\n",
    "        \n",
    "\n"
   ]
  },
  {
   "cell_type": "code",
   "execution_count": 259,
   "id": "77f8e082",
   "metadata": {},
   "outputs": [
    {
     "name": "stdout",
     "output_type": "stream",
     "text": [
      "[1, 2, 16.0, 4, 16, 16.0, 52.0, 8, 52.0, 16.0, 52.0, 16.0, 40, 52.0, 160.0, 16, 52, 52.0, 88.0, 20, 64, 52.0, 160.0, 24, 88.0, 40.0, 9232.0, 52.0, 88, 160.0, 9232.0, 32, 100, 52.0, 160.0, 52.0, 112, 88.0, 304.0, 40, 9232.0, 64.0, 196.0, 52.0, 136, 160.0, 9232.0, 48, 148, 88.0]\n",
      "[1, 2, 16.0, 4, 16, 16.0, 52.0, 8, 52.0]\n",
      "[88.0, 232.0, 52, 160, 9232.0, 9232.0, 56, 196.0, 88.0, 304.0, 160.0, 184, 9232.0, 9232.0, 64, 196, 100.0, 304.0, 68, 208, 160.0, 9232.0, 72, 9232.0, 112.0, 340.0, 88.0, 232, 304.0, 808.0, 80, 244, 9232.0, 9232.0, 84, 256, 196.0, 592.0, 88, 304.0, 136.0, 9232.0, 160.0, 280, 9232.0, 9232.0, 96, 9232.0, 148.0, 448.0]\n",
      "[88.0, 9232.0, 88.0, 9232.0, 100.0, 160.0, 112.0, 304.0, 9232.0, 196.0, 136.0, 9232.0, 148.0]\n",
      "[20, 88.0, 160.0, 160.0, 40, 136, 88.0, 9232.0, 160.0, 196, 160.0, 340.0, 80, 256, 136.0, 9232.0, 100, 808.0, 9232.0, 520.0, 160.0, 9232.0, 196.0]\n",
      "[340.0, 84, 280, 232.0, 9232.0, 160.0, 9232.0, 208.0, 9232.0, 304.0, 9232.0, 592.0]\n"
     ]
    }
   ],
   "source": [
    "assert Collatz_winner(range(1,51)) == 27\n",
    "assert Collatz_winner(range(1,10)) == 9\n",
    "assert Collatz_winner(range(50,100)) == 97\n",
    "assert Collatz_winner(range(50,100,4)) == 54\n",
    "assert Collatz_winner(range(20,131,5)) == 110\n",
    "assert Collatz_winner(range(75,180,9)) == 129"
   ]
  }
 ],
 "metadata": {
  "kernelspec": {
   "display_name": "Python 3 (ipykernel)",
   "language": "python",
   "name": "python3"
  },
  "language_info": {
   "codemirror_mode": {
    "name": "ipython",
    "version": 3
   },
   "file_extension": ".py",
   "mimetype": "text/x-python",
   "name": "python",
   "nbconvert_exporter": "python",
   "pygments_lexer": "ipython3",
   "version": "3.11.7"
  }
 },
 "nbformat": 4,
 "nbformat_minor": 5
}
